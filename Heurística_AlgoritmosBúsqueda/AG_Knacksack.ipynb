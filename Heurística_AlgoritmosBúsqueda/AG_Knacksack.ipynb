{
  "nbformat": 4,
  "nbformat_minor": 0,
  "metadata": {
    "colab": {
      "provenance": [],
      "authorship_tag": "ABX9TyMUeBio+0/5UIgrHPTIdW3D",
      "include_colab_link": true
    },
    "kernelspec": {
      "name": "python3",
      "display_name": "Python 3"
    },
    "language_info": {
      "name": "python"
    }
  },
  "cells": [
    {
      "cell_type": "markdown",
      "metadata": {
        "id": "view-in-github",
        "colab_type": "text"
      },
      "source": [
        "<a href=\"https://colab.research.google.com/github/ibonetc/IA_2024/blob/main/Heur%C3%ADstica_AlgoritmosB%C3%BAsqueda/AG_Knacksack.ipynb\" target=\"_parent\"><img src=\"https://colab.research.google.com/assets/colab-badge.svg\" alt=\"Open In Colab\"/></a>"
      ]
    },
    {
      "cell_type": "markdown",
      "source": [
        "# Algoritmo genético para el problema de la mochila"
      ],
      "metadata": {
        "id": "Nwscrvd5j9Dj"
      }
    },
    {
      "cell_type": "code",
      "execution_count": null,
      "metadata": {
        "id": "GyQOWFK8j7oc"
      },
      "outputs": [],
      "source": [
        "import numpy as np\n",
        "import pandas as pd"
      ]
    },
    {
      "cell_type": "code",
      "source": [
        "# @title Introduzca los valores de Cantidad de productos (N) y Peso en kg (W) de la mochila\n",
        "N = 10 # @param {type:\"integer\"}\n",
        "W = 15 # @param {type:\"integer\"}\n",
        "minprice= 1 # @param {type:\"number\"}\n",
        "maxprice= 100 # @param {type:\"number\"}\n",
        "NP= 50 # @param {type:\"integer\"}\n",
        "generations= 200 # @param {type:\"integer\"}\n",
        "mutation_probability= 0.1 # @param {type:\"number\"}\n",
        "crossover_probability= 0.9 # @param {type:\"number\"}\n"
      ],
      "metadata": {
        "id": "1BaYGHSQkVgM"
      },
      "execution_count": null,
      "outputs": []
    },
    {
      "cell_type": "code",
      "source": [
        "NP"
      ],
      "metadata": {
        "colab": {
          "base_uri": "https://localhost:8080/"
        },
        "id": "uOIO0sFu9Yct",
        "outputId": "cbd50963-fc97-4018-d646-f8b259b26cfb"
      },
      "execution_count": null,
      "outputs": [
        {
          "output_type": "execute_result",
          "data": {
            "text/plain": [
              "50"
            ]
          },
          "metadata": {},
          "execution_count": 1262
        }
      ]
    },
    {
      "cell_type": "markdown",
      "source": [
        "Generar precios y pesos aleatoreamente"
      ],
      "metadata": {
        "id": "P4EDGJ05lvLf"
      }
    },
    {
      "cell_type": "code",
      "source": [
        "np.random.seed(7)\n",
        "weights=W*np.random.random_sample(N)\n",
        "prices=(maxprice-minprice)*np.random.random_sample(N)+minprice\n",
        "print(weights)\n",
        "print(prices)"
      ],
      "metadata": {
        "colab": {
          "base_uri": "https://localhost:8080/"
        },
        "id": "c4amnaSglswX",
        "outputId": "8b876c71-e1fd-4675-cc1b-d07b9409b6f5"
      },
      "execution_count": null,
      "outputs": [
        {
          "output_type": "stream",
          "name": "stdout",
          "text": [
            "[ 1.14462434 11.69878188  6.57613847 10.85197767 14.66984268  8.07743806\n",
            "  7.51680695  1.080767    4.0265847   7.49823751]\n",
            "[68.24376962 80.57016457 38.71317218  7.52769834 29.52641433 91.04975924\n",
            " 22.12515    45.76027222 93.18939595  3.46502353]\n"
          ]
        }
      ]
    },
    {
      "cell_type": "code",
      "source": [
        "ind1=np.random.randint(0,2,N)\n",
        "ind1"
      ],
      "metadata": {
        "colab": {
          "base_uri": "https://localhost:8080/"
        },
        "id": "ZHnazwjDmoFo",
        "outputId": "71b762d1-886f-4c9d-8178-dacfe51b6d33"
      },
      "execution_count": null,
      "outputs": [
        {
          "output_type": "execute_result",
          "data": {
            "text/plain": [
              "array([1, 1, 0, 0, 0, 1, 0, 0, 0, 0])"
            ]
          },
          "metadata": {},
          "execution_count": 1264
        }
      ]
    },
    {
      "cell_type": "markdown",
      "source": [
        "## Función de validación"
      ],
      "metadata": {
        "id": "P-u-O_ng2W4E"
      }
    },
    {
      "cell_type": "code",
      "source": [
        "def valid(ind):\n",
        "  return 0<sum(ind*weights)<=W"
      ],
      "metadata": {
        "id": "f-0T4EtyncEG"
      },
      "execution_count": null,
      "outputs": []
    },
    {
      "cell_type": "markdown",
      "source": [
        "## Generar primera población"
      ],
      "metadata": {
        "id": "EJ7lw4xopbZC"
      }
    },
    {
      "cell_type": "code",
      "source": [
        "def generateFirstPopulation(N,NP):\n",
        "  population=[]\n",
        "  count=0;\n",
        "  while True:\n",
        "    ind=np.random.randint(0,2,N)\n",
        "    if (valid(ind)):\n",
        "      population.append(ind)\n",
        "      count=count+1\n",
        "    if count==NP:\n",
        "      return population"
      ],
      "metadata": {
        "id": "k0cjHtzboFzu"
      },
      "execution_count": null,
      "outputs": []
    },
    {
      "cell_type": "code",
      "source": [
        "population=generateFirstPopulation(N,NP)\n",
        "population"
      ],
      "metadata": {
        "colab": {
          "base_uri": "https://localhost:8080/"
        },
        "id": "Rl5g0htk2NqI",
        "outputId": "89f43283-4e51-4f75-f76b-7faf3e78396c"
      },
      "execution_count": null,
      "outputs": [
        {
          "output_type": "execute_result",
          "data": {
            "text/plain": [
              "[array([0, 0, 1, 0, 0, 1, 0, 0, 0, 0]),\n",
              " array([0, 0, 1, 0, 0, 1, 0, 0, 0, 0]),\n",
              " array([0, 0, 0, 0, 0, 1, 0, 1, 0, 0]),\n",
              " array([0, 0, 0, 0, 0, 0, 1, 1, 1, 0]),\n",
              " array([1, 0, 0, 0, 0, 1, 0, 0, 0, 0]),\n",
              " array([0, 0, 0, 0, 0, 1, 0, 1, 0, 0]),\n",
              " array([1, 0, 0, 0, 0, 0, 1, 0, 0, 0]),\n",
              " array([0, 0, 0, 0, 0, 0, 1, 1, 1, 0]),\n",
              " array([1, 1, 0, 0, 0, 0, 0, 1, 0, 0]),\n",
              " array([0, 0, 0, 0, 0, 0, 0, 1, 1, 1]),\n",
              " array([1, 0, 1, 0, 0, 0, 0, 1, 1, 0]),\n",
              " array([0, 0, 1, 0, 0, 0, 1, 0, 0, 0]),\n",
              " array([1, 0, 0, 0, 0, 0, 0, 0, 1, 1]),\n",
              " array([1, 0, 1, 0, 0, 0, 0, 0, 0, 0]),\n",
              " array([0, 0, 1, 0, 0, 0, 0, 1, 1, 0]),\n",
              " array([1, 0, 1, 0, 0, 0, 0, 0, 1, 0]),\n",
              " array([0, 0, 0, 0, 0, 0, 1, 1, 1, 0]),\n",
              " array([1, 0, 0, 0, 0, 1, 0, 1, 0, 0]),\n",
              " array([1, 0, 0, 0, 0, 0, 1, 1, 0, 0]),\n",
              " array([0, 0, 1, 0, 0, 0, 0, 0, 1, 0]),\n",
              " array([1, 0, 0, 0, 0, 0, 0, 1, 0, 1]),\n",
              " array([1, 1, 0, 0, 0, 0, 0, 1, 0, 0]),\n",
              " array([0, 0, 0, 0, 0, 1, 0, 0, 0, 0]),\n",
              " array([0, 0, 0, 0, 0, 0, 1, 1, 0, 0]),\n",
              " array([0, 0, 0, 0, 0, 0, 0, 1, 1, 0]),\n",
              " array([0, 0, 0, 0, 1, 0, 0, 0, 0, 0]),\n",
              " array([1, 0, 0, 1, 0, 0, 0, 1, 0, 0]),\n",
              " array([0, 0, 1, 0, 0, 0, 0, 1, 1, 0]),\n",
              " array([1, 0, 0, 0, 0, 1, 0, 0, 0, 0]),\n",
              " array([0, 0, 0, 0, 0, 1, 0, 0, 0, 0]),\n",
              " array([1, 0, 0, 0, 0, 1, 0, 0, 1, 0]),\n",
              " array([1, 1, 0, 0, 0, 0, 0, 1, 0, 0]),\n",
              " array([1, 1, 0, 0, 0, 0, 0, 0, 0, 0]),\n",
              " array([1, 0, 0, 0, 0, 0, 0, 1, 1, 0]),\n",
              " array([1, 0, 0, 0, 0, 1, 0, 0, 0, 0]),\n",
              " array([1, 0, 0, 0, 0, 0, 0, 1, 0, 1]),\n",
              " array([0, 0, 0, 0, 1, 0, 0, 0, 0, 0]),\n",
              " array([1, 0, 1, 0, 0, 0, 0, 1, 0, 0]),\n",
              " array([1, 0, 0, 0, 0, 1, 0, 0, 1, 0]),\n",
              " array([1, 0, 0, 0, 0, 1, 0, 1, 0, 0]),\n",
              " array([0, 0, 1, 0, 0, 0, 1, 0, 0, 0]),\n",
              " array([0, 0, 1, 0, 0, 0, 0, 1, 0, 0]),\n",
              " array([0, 0, 0, 0, 0, 0, 0, 1, 0, 1]),\n",
              " array([0, 0, 0, 0, 0, 0, 0, 1, 1, 1]),\n",
              " array([0, 0, 0, 0, 0, 0, 0, 0, 1, 1]),\n",
              " array([0, 0, 0, 0, 0, 0, 0, 0, 0, 1]),\n",
              " array([1, 0, 0, 0, 0, 1, 0, 1, 1, 0]),\n",
              " array([0, 0, 0, 0, 0, 0, 0, 0, 1, 1]),\n",
              " array([0, 0, 0, 0, 0, 0, 0, 0, 0, 1]),\n",
              " array([0, 0, 0, 0, 0, 1, 0, 0, 1, 0])]"
            ]
          },
          "metadata": {},
          "execution_count": 1267
        }
      ]
    },
    {
      "cell_type": "markdown",
      "source": [
        "## Función fitness"
      ],
      "metadata": {
        "id": "bRg0bftgpZvx"
      }
    },
    {
      "cell_type": "code",
      "source": [
        "def fitnessFunc(ind):\n",
        "  return sum(ind*prices)"
      ],
      "metadata": {
        "id": "_xqI8Hy9pjFt"
      },
      "execution_count": null,
      "outputs": []
    },
    {
      "cell_type": "markdown",
      "source": [
        "## Método de la ruleta"
      ],
      "metadata": {
        "id": "rgchGiCJqAnO"
      }
    },
    {
      "cell_type": "code",
      "source": [
        "sampleP=generateFirstPopulation(N,5)\n",
        "print(sampleP)\n",
        "f=[fitnessFunc(x) for x in sampleP]\n",
        "print(f)\n",
        "probability=f/sum(f)\n",
        "print(probability)\n",
        "accumProb=np.cumsum(probability)"
      ],
      "metadata": {
        "colab": {
          "base_uri": "https://localhost:8080/"
        },
        "id": "dUjgO6gjqEly",
        "outputId": "458796fd-f201-4822-9d2b-b839306f9e3b"
      },
      "execution_count": null,
      "outputs": [
        {
          "output_type": "stream",
          "name": "stdout",
          "text": [
            "[array([1, 0, 0, 0, 0, 0, 1, 0, 1, 0]), array([0, 0, 0, 0, 0, 1, 0, 0, 1, 0]), array([0, 0, 0, 1, 0, 0, 0, 0, 1, 0]), array([1, 0, 1, 0, 0, 0, 0, 0, 1, 0]), array([1, 0, 0, 0, 0, 0, 1, 0, 1, 0])]\n",
            "[183.55831556959788, 184.2391551934549, 100.71709429289776, 200.14633774689156, 183.55831556959788]\n",
            "[0.21538861 0.21618752 0.11818214 0.23485311 0.21538861]\n"
          ]
        }
      ]
    },
    {
      "cell_type": "code",
      "source": [
        "df=pd.DataFrame(list(zip(sampleP,f,probability,accumProb)),columns=['Cromosoma','Fitness','Probabilidad','Prob_Acumulada'])\n",
        "df"
      ],
      "metadata": {
        "colab": {
          "base_uri": "https://localhost:8080/",
          "height": 206
        },
        "id": "M_3roAHZrVa-",
        "outputId": "5d6a8b2a-3611-460b-d3ae-adad239444d1"
      },
      "execution_count": null,
      "outputs": [
        {
          "output_type": "execute_result",
          "data": {
            "text/plain": [
              "                        Cromosoma     Fitness  Probabilidad  Prob_Acumulada\n",
              "0  [1, 0, 0, 0, 0, 0, 1, 0, 1, 0]  183.558316      0.215389        0.215389\n",
              "1  [0, 0, 0, 0, 0, 1, 0, 0, 1, 0]  184.239155      0.216188        0.431576\n",
              "2  [0, 0, 0, 1, 0, 0, 0, 0, 1, 0]  100.717094      0.118182        0.549758\n",
              "3  [1, 0, 1, 0, 0, 0, 0, 0, 1, 0]  200.146338      0.234853        0.784611\n",
              "4  [1, 0, 0, 0, 0, 0, 1, 0, 1, 0]  183.558316      0.215389        1.000000"
            ],
            "text/html": [
              "\n",
              "\n",
              "  <div id=\"df-b49c9126-de04-4848-a309-1f2f928a2b46\">\n",
              "    <div class=\"colab-df-container\">\n",
              "      <div>\n",
              "<style scoped>\n",
              "    .dataframe tbody tr th:only-of-type {\n",
              "        vertical-align: middle;\n",
              "    }\n",
              "\n",
              "    .dataframe tbody tr th {\n",
              "        vertical-align: top;\n",
              "    }\n",
              "\n",
              "    .dataframe thead th {\n",
              "        text-align: right;\n",
              "    }\n",
              "</style>\n",
              "<table border=\"1\" class=\"dataframe\">\n",
              "  <thead>\n",
              "    <tr style=\"text-align: right;\">\n",
              "      <th></th>\n",
              "      <th>Cromosoma</th>\n",
              "      <th>Fitness</th>\n",
              "      <th>Probabilidad</th>\n",
              "      <th>Prob_Acumulada</th>\n",
              "    </tr>\n",
              "  </thead>\n",
              "  <tbody>\n",
              "    <tr>\n",
              "      <th>0</th>\n",
              "      <td>[1, 0, 0, 0, 0, 0, 1, 0, 1, 0]</td>\n",
              "      <td>183.558316</td>\n",
              "      <td>0.215389</td>\n",
              "      <td>0.215389</td>\n",
              "    </tr>\n",
              "    <tr>\n",
              "      <th>1</th>\n",
              "      <td>[0, 0, 0, 0, 0, 1, 0, 0, 1, 0]</td>\n",
              "      <td>184.239155</td>\n",
              "      <td>0.216188</td>\n",
              "      <td>0.431576</td>\n",
              "    </tr>\n",
              "    <tr>\n",
              "      <th>2</th>\n",
              "      <td>[0, 0, 0, 1, 0, 0, 0, 0, 1, 0]</td>\n",
              "      <td>100.717094</td>\n",
              "      <td>0.118182</td>\n",
              "      <td>0.549758</td>\n",
              "    </tr>\n",
              "    <tr>\n",
              "      <th>3</th>\n",
              "      <td>[1, 0, 1, 0, 0, 0, 0, 0, 1, 0]</td>\n",
              "      <td>200.146338</td>\n",
              "      <td>0.234853</td>\n",
              "      <td>0.784611</td>\n",
              "    </tr>\n",
              "    <tr>\n",
              "      <th>4</th>\n",
              "      <td>[1, 0, 0, 0, 0, 0, 1, 0, 1, 0]</td>\n",
              "      <td>183.558316</td>\n",
              "      <td>0.215389</td>\n",
              "      <td>1.000000</td>\n",
              "    </tr>\n",
              "  </tbody>\n",
              "</table>\n",
              "</div>\n",
              "      <button class=\"colab-df-convert\" onclick=\"convertToInteractive('df-b49c9126-de04-4848-a309-1f2f928a2b46')\"\n",
              "              title=\"Convert this dataframe to an interactive table.\"\n",
              "              style=\"display:none;\">\n",
              "\n",
              "  <svg xmlns=\"http://www.w3.org/2000/svg\" height=\"24px\"viewBox=\"0 0 24 24\"\n",
              "       width=\"24px\">\n",
              "    <path d=\"M0 0h24v24H0V0z\" fill=\"none\"/>\n",
              "    <path d=\"M18.56 5.44l.94 2.06.94-2.06 2.06-.94-2.06-.94-.94-2.06-.94 2.06-2.06.94zm-11 1L8.5 8.5l.94-2.06 2.06-.94-2.06-.94L8.5 2.5l-.94 2.06-2.06.94zm10 10l.94 2.06.94-2.06 2.06-.94-2.06-.94-.94-2.06-.94 2.06-2.06.94z\"/><path d=\"M17.41 7.96l-1.37-1.37c-.4-.4-.92-.59-1.43-.59-.52 0-1.04.2-1.43.59L10.3 9.45l-7.72 7.72c-.78.78-.78 2.05 0 2.83L4 21.41c.39.39.9.59 1.41.59.51 0 1.02-.2 1.41-.59l7.78-7.78 2.81-2.81c.8-.78.8-2.07 0-2.86zM5.41 20L4 18.59l7.72-7.72 1.47 1.35L5.41 20z\"/>\n",
              "  </svg>\n",
              "      </button>\n",
              "\n",
              "\n",
              "\n",
              "    <div id=\"df-d80220be-d043-4c29-8179-24b69fc91cbb\">\n",
              "      <button class=\"colab-df-quickchart\" onclick=\"quickchart('df-d80220be-d043-4c29-8179-24b69fc91cbb')\"\n",
              "              title=\"Suggest charts.\"\n",
              "              style=\"display:none;\">\n",
              "\n",
              "<svg xmlns=\"http://www.w3.org/2000/svg\" height=\"24px\"viewBox=\"0 0 24 24\"\n",
              "     width=\"24px\">\n",
              "    <g>\n",
              "        <path d=\"M19 3H5c-1.1 0-2 .9-2 2v14c0 1.1.9 2 2 2h14c1.1 0 2-.9 2-2V5c0-1.1-.9-2-2-2zM9 17H7v-7h2v7zm4 0h-2V7h2v10zm4 0h-2v-4h2v4z\"/>\n",
              "    </g>\n",
              "</svg>\n",
              "      </button>\n",
              "    </div>\n",
              "\n",
              "<style>\n",
              "  .colab-df-quickchart {\n",
              "    background-color: #E8F0FE;\n",
              "    border: none;\n",
              "    border-radius: 50%;\n",
              "    cursor: pointer;\n",
              "    display: none;\n",
              "    fill: #1967D2;\n",
              "    height: 32px;\n",
              "    padding: 0 0 0 0;\n",
              "    width: 32px;\n",
              "  }\n",
              "\n",
              "  .colab-df-quickchart:hover {\n",
              "    background-color: #E2EBFA;\n",
              "    box-shadow: 0px 1px 2px rgba(60, 64, 67, 0.3), 0px 1px 3px 1px rgba(60, 64, 67, 0.15);\n",
              "    fill: #174EA6;\n",
              "  }\n",
              "\n",
              "  [theme=dark] .colab-df-quickchart {\n",
              "    background-color: #3B4455;\n",
              "    fill: #D2E3FC;\n",
              "  }\n",
              "\n",
              "  [theme=dark] .colab-df-quickchart:hover {\n",
              "    background-color: #434B5C;\n",
              "    box-shadow: 0px 1px 3px 1px rgba(0, 0, 0, 0.15);\n",
              "    filter: drop-shadow(0px 1px 2px rgba(0, 0, 0, 0.3));\n",
              "    fill: #FFFFFF;\n",
              "  }\n",
              "</style>\n",
              "\n",
              "    <script>\n",
              "      async function quickchart(key) {\n",
              "        const containerElement = document.querySelector('#' + key);\n",
              "        const charts = await google.colab.kernel.invokeFunction(\n",
              "            'suggestCharts', [key], {});\n",
              "      }\n",
              "    </script>\n",
              "\n",
              "      <script>\n",
              "\n",
              "function displayQuickchartButton(domScope) {\n",
              "  let quickchartButtonEl =\n",
              "    domScope.querySelector('#df-d80220be-d043-4c29-8179-24b69fc91cbb button.colab-df-quickchart');\n",
              "  quickchartButtonEl.style.display =\n",
              "    google.colab.kernel.accessAllowed ? 'block' : 'none';\n",
              "}\n",
              "\n",
              "        displayQuickchartButton(document);\n",
              "      </script>\n",
              "      <style>\n",
              "    .colab-df-container {\n",
              "      display:flex;\n",
              "      flex-wrap:wrap;\n",
              "      gap: 12px;\n",
              "    }\n",
              "\n",
              "    .colab-df-convert {\n",
              "      background-color: #E8F0FE;\n",
              "      border: none;\n",
              "      border-radius: 50%;\n",
              "      cursor: pointer;\n",
              "      display: none;\n",
              "      fill: #1967D2;\n",
              "      height: 32px;\n",
              "      padding: 0 0 0 0;\n",
              "      width: 32px;\n",
              "    }\n",
              "\n",
              "    .colab-df-convert:hover {\n",
              "      background-color: #E2EBFA;\n",
              "      box-shadow: 0px 1px 2px rgba(60, 64, 67, 0.3), 0px 1px 3px 1px rgba(60, 64, 67, 0.15);\n",
              "      fill: #174EA6;\n",
              "    }\n",
              "\n",
              "    [theme=dark] .colab-df-convert {\n",
              "      background-color: #3B4455;\n",
              "      fill: #D2E3FC;\n",
              "    }\n",
              "\n",
              "    [theme=dark] .colab-df-convert:hover {\n",
              "      background-color: #434B5C;\n",
              "      box-shadow: 0px 1px 3px 1px rgba(0, 0, 0, 0.15);\n",
              "      filter: drop-shadow(0px 1px 2px rgba(0, 0, 0, 0.3));\n",
              "      fill: #FFFFFF;\n",
              "    }\n",
              "  </style>\n",
              "\n",
              "      <script>\n",
              "        const buttonEl =\n",
              "          document.querySelector('#df-b49c9126-de04-4848-a309-1f2f928a2b46 button.colab-df-convert');\n",
              "        buttonEl.style.display =\n",
              "          google.colab.kernel.accessAllowed ? 'block' : 'none';\n",
              "\n",
              "        async function convertToInteractive(key) {\n",
              "          const element = document.querySelector('#df-b49c9126-de04-4848-a309-1f2f928a2b46');\n",
              "          const dataTable =\n",
              "            await google.colab.kernel.invokeFunction('convertToInteractive',\n",
              "                                                     [key], {});\n",
              "          if (!dataTable) return;\n",
              "\n",
              "          const docLinkHtml = 'Like what you see? Visit the ' +\n",
              "            '<a target=\"_blank\" href=https://colab.research.google.com/notebooks/data_table.ipynb>data table notebook</a>'\n",
              "            + ' to learn more about interactive tables.';\n",
              "          element.innerHTML = '';\n",
              "          dataTable['output_type'] = 'display_data';\n",
              "          await google.colab.output.renderOutput(dataTable, element);\n",
              "          const docLink = document.createElement('div');\n",
              "          docLink.innerHTML = docLinkHtml;\n",
              "          element.appendChild(docLink);\n",
              "        }\n",
              "      </script>\n",
              "    </div>\n",
              "  </div>\n"
            ]
          },
          "metadata": {},
          "execution_count": 1270
        }
      ]
    },
    {
      "cell_type": "code",
      "source": [
        "import plotly.graph_objects as go\n",
        "fig=go.Figure(data=[go.Pie(labels=np.arange(5), values=f)])\n",
        "fig.show()"
      ],
      "metadata": {
        "colab": {
          "base_uri": "https://localhost:8080/",
          "height": 542
        },
        "id": "fDFOZ-5br7Gh",
        "outputId": "68ce22d5-eff5-4419-f153-d87026c242e2"
      },
      "execution_count": null,
      "outputs": [
        {
          "output_type": "display_data",
          "data": {
            "text/html": [
              "<html>\n",
              "<head><meta charset=\"utf-8\" /></head>\n",
              "<body>\n",
              "    <div>            <script src=\"https://cdnjs.cloudflare.com/ajax/libs/mathjax/2.7.5/MathJax.js?config=TeX-AMS-MML_SVG\"></script><script type=\"text/javascript\">if (window.MathJax && window.MathJax.Hub && window.MathJax.Hub.Config) {window.MathJax.Hub.Config({SVG: {font: \"STIX-Web\"}});}</script>                <script type=\"text/javascript\">window.PlotlyConfig = {MathJaxConfig: 'local'};</script>\n",
              "        <script src=\"https://cdn.plot.ly/plotly-2.18.2.min.js\"></script>                <div id=\"2a9d065f-c954-4593-bdf0-97cb5c9db062\" class=\"plotly-graph-div\" style=\"height:525px; width:100%;\"></div>            <script type=\"text/javascript\">                                    window.PLOTLYENV=window.PLOTLYENV || {};                                    if (document.getElementById(\"2a9d065f-c954-4593-bdf0-97cb5c9db062\")) {                    Plotly.newPlot(                        \"2a9d065f-c954-4593-bdf0-97cb5c9db062\",                        [{\"labels\":[0,1,2,3,4],\"values\":[183.55831556959788,184.2391551934549,100.71709429289776,200.14633774689156,183.55831556959788],\"type\":\"pie\"}],                        {\"template\":{\"data\":{\"histogram2dcontour\":[{\"type\":\"histogram2dcontour\",\"colorbar\":{\"outlinewidth\":0,\"ticks\":\"\"},\"colorscale\":[[0.0,\"#0d0887\"],[0.1111111111111111,\"#46039f\"],[0.2222222222222222,\"#7201a8\"],[0.3333333333333333,\"#9c179e\"],[0.4444444444444444,\"#bd3786\"],[0.5555555555555556,\"#d8576b\"],[0.6666666666666666,\"#ed7953\"],[0.7777777777777778,\"#fb9f3a\"],[0.8888888888888888,\"#fdca26\"],[1.0,\"#f0f921\"]]}],\"choropleth\":[{\"type\":\"choropleth\",\"colorbar\":{\"outlinewidth\":0,\"ticks\":\"\"}}],\"histogram2d\":[{\"type\":\"histogram2d\",\"colorbar\":{\"outlinewidth\":0,\"ticks\":\"\"},\"colorscale\":[[0.0,\"#0d0887\"],[0.1111111111111111,\"#46039f\"],[0.2222222222222222,\"#7201a8\"],[0.3333333333333333,\"#9c179e\"],[0.4444444444444444,\"#bd3786\"],[0.5555555555555556,\"#d8576b\"],[0.6666666666666666,\"#ed7953\"],[0.7777777777777778,\"#fb9f3a\"],[0.8888888888888888,\"#fdca26\"],[1.0,\"#f0f921\"]]}],\"heatmap\":[{\"type\":\"heatmap\",\"colorbar\":{\"outlinewidth\":0,\"ticks\":\"\"},\"colorscale\":[[0.0,\"#0d0887\"],[0.1111111111111111,\"#46039f\"],[0.2222222222222222,\"#7201a8\"],[0.3333333333333333,\"#9c179e\"],[0.4444444444444444,\"#bd3786\"],[0.5555555555555556,\"#d8576b\"],[0.6666666666666666,\"#ed7953\"],[0.7777777777777778,\"#fb9f3a\"],[0.8888888888888888,\"#fdca26\"],[1.0,\"#f0f921\"]]}],\"heatmapgl\":[{\"type\":\"heatmapgl\",\"colorbar\":{\"outlinewidth\":0,\"ticks\":\"\"},\"colorscale\":[[0.0,\"#0d0887\"],[0.1111111111111111,\"#46039f\"],[0.2222222222222222,\"#7201a8\"],[0.3333333333333333,\"#9c179e\"],[0.4444444444444444,\"#bd3786\"],[0.5555555555555556,\"#d8576b\"],[0.6666666666666666,\"#ed7953\"],[0.7777777777777778,\"#fb9f3a\"],[0.8888888888888888,\"#fdca26\"],[1.0,\"#f0f921\"]]}],\"contourcarpet\":[{\"type\":\"contourcarpet\",\"colorbar\":{\"outlinewidth\":0,\"ticks\":\"\"}}],\"contour\":[{\"type\":\"contour\",\"colorbar\":{\"outlinewidth\":0,\"ticks\":\"\"},\"colorscale\":[[0.0,\"#0d0887\"],[0.1111111111111111,\"#46039f\"],[0.2222222222222222,\"#7201a8\"],[0.3333333333333333,\"#9c179e\"],[0.4444444444444444,\"#bd3786\"],[0.5555555555555556,\"#d8576b\"],[0.6666666666666666,\"#ed7953\"],[0.7777777777777778,\"#fb9f3a\"],[0.8888888888888888,\"#fdca26\"],[1.0,\"#f0f921\"]]}],\"surface\":[{\"type\":\"surface\",\"colorbar\":{\"outlinewidth\":0,\"ticks\":\"\"},\"colorscale\":[[0.0,\"#0d0887\"],[0.1111111111111111,\"#46039f\"],[0.2222222222222222,\"#7201a8\"],[0.3333333333333333,\"#9c179e\"],[0.4444444444444444,\"#bd3786\"],[0.5555555555555556,\"#d8576b\"],[0.6666666666666666,\"#ed7953\"],[0.7777777777777778,\"#fb9f3a\"],[0.8888888888888888,\"#fdca26\"],[1.0,\"#f0f921\"]]}],\"mesh3d\":[{\"type\":\"mesh3d\",\"colorbar\":{\"outlinewidth\":0,\"ticks\":\"\"}}],\"scatter\":[{\"fillpattern\":{\"fillmode\":\"overlay\",\"size\":10,\"solidity\":0.2},\"type\":\"scatter\"}],\"parcoords\":[{\"type\":\"parcoords\",\"line\":{\"colorbar\":{\"outlinewidth\":0,\"ticks\":\"\"}}}],\"scatterpolargl\":[{\"type\":\"scatterpolargl\",\"marker\":{\"colorbar\":{\"outlinewidth\":0,\"ticks\":\"\"}}}],\"bar\":[{\"error_x\":{\"color\":\"#2a3f5f\"},\"error_y\":{\"color\":\"#2a3f5f\"},\"marker\":{\"line\":{\"color\":\"#E5ECF6\",\"width\":0.5},\"pattern\":{\"fillmode\":\"overlay\",\"size\":10,\"solidity\":0.2}},\"type\":\"bar\"}],\"scattergeo\":[{\"type\":\"scattergeo\",\"marker\":{\"colorbar\":{\"outlinewidth\":0,\"ticks\":\"\"}}}],\"scatterpolar\":[{\"type\":\"scatterpolar\",\"marker\":{\"colorbar\":{\"outlinewidth\":0,\"ticks\":\"\"}}}],\"histogram\":[{\"marker\":{\"pattern\":{\"fillmode\":\"overlay\",\"size\":10,\"solidity\":0.2}},\"type\":\"histogram\"}],\"scattergl\":[{\"type\":\"scattergl\",\"marker\":{\"colorbar\":{\"outlinewidth\":0,\"ticks\":\"\"}}}],\"scatter3d\":[{\"type\":\"scatter3d\",\"line\":{\"colorbar\":{\"outlinewidth\":0,\"ticks\":\"\"}},\"marker\":{\"colorbar\":{\"outlinewidth\":0,\"ticks\":\"\"}}}],\"scattermapbox\":[{\"type\":\"scattermapbox\",\"marker\":{\"colorbar\":{\"outlinewidth\":0,\"ticks\":\"\"}}}],\"scatterternary\":[{\"type\":\"scatterternary\",\"marker\":{\"colorbar\":{\"outlinewidth\":0,\"ticks\":\"\"}}}],\"scattercarpet\":[{\"type\":\"scattercarpet\",\"marker\":{\"colorbar\":{\"outlinewidth\":0,\"ticks\":\"\"}}}],\"carpet\":[{\"aaxis\":{\"endlinecolor\":\"#2a3f5f\",\"gridcolor\":\"white\",\"linecolor\":\"white\",\"minorgridcolor\":\"white\",\"startlinecolor\":\"#2a3f5f\"},\"baxis\":{\"endlinecolor\":\"#2a3f5f\",\"gridcolor\":\"white\",\"linecolor\":\"white\",\"minorgridcolor\":\"white\",\"startlinecolor\":\"#2a3f5f\"},\"type\":\"carpet\"}],\"table\":[{\"cells\":{\"fill\":{\"color\":\"#EBF0F8\"},\"line\":{\"color\":\"white\"}},\"header\":{\"fill\":{\"color\":\"#C8D4E3\"},\"line\":{\"color\":\"white\"}},\"type\":\"table\"}],\"barpolar\":[{\"marker\":{\"line\":{\"color\":\"#E5ECF6\",\"width\":0.5},\"pattern\":{\"fillmode\":\"overlay\",\"size\":10,\"solidity\":0.2}},\"type\":\"barpolar\"}],\"pie\":[{\"automargin\":true,\"type\":\"pie\"}]},\"layout\":{\"autotypenumbers\":\"strict\",\"colorway\":[\"#636efa\",\"#EF553B\",\"#00cc96\",\"#ab63fa\",\"#FFA15A\",\"#19d3f3\",\"#FF6692\",\"#B6E880\",\"#FF97FF\",\"#FECB52\"],\"font\":{\"color\":\"#2a3f5f\"},\"hovermode\":\"closest\",\"hoverlabel\":{\"align\":\"left\"},\"paper_bgcolor\":\"white\",\"plot_bgcolor\":\"#E5ECF6\",\"polar\":{\"bgcolor\":\"#E5ECF6\",\"angularaxis\":{\"gridcolor\":\"white\",\"linecolor\":\"white\",\"ticks\":\"\"},\"radialaxis\":{\"gridcolor\":\"white\",\"linecolor\":\"white\",\"ticks\":\"\"}},\"ternary\":{\"bgcolor\":\"#E5ECF6\",\"aaxis\":{\"gridcolor\":\"white\",\"linecolor\":\"white\",\"ticks\":\"\"},\"baxis\":{\"gridcolor\":\"white\",\"linecolor\":\"white\",\"ticks\":\"\"},\"caxis\":{\"gridcolor\":\"white\",\"linecolor\":\"white\",\"ticks\":\"\"}},\"coloraxis\":{\"colorbar\":{\"outlinewidth\":0,\"ticks\":\"\"}},\"colorscale\":{\"sequential\":[[0.0,\"#0d0887\"],[0.1111111111111111,\"#46039f\"],[0.2222222222222222,\"#7201a8\"],[0.3333333333333333,\"#9c179e\"],[0.4444444444444444,\"#bd3786\"],[0.5555555555555556,\"#d8576b\"],[0.6666666666666666,\"#ed7953\"],[0.7777777777777778,\"#fb9f3a\"],[0.8888888888888888,\"#fdca26\"],[1.0,\"#f0f921\"]],\"sequentialminus\":[[0.0,\"#0d0887\"],[0.1111111111111111,\"#46039f\"],[0.2222222222222222,\"#7201a8\"],[0.3333333333333333,\"#9c179e\"],[0.4444444444444444,\"#bd3786\"],[0.5555555555555556,\"#d8576b\"],[0.6666666666666666,\"#ed7953\"],[0.7777777777777778,\"#fb9f3a\"],[0.8888888888888888,\"#fdca26\"],[1.0,\"#f0f921\"]],\"diverging\":[[0,\"#8e0152\"],[0.1,\"#c51b7d\"],[0.2,\"#de77ae\"],[0.3,\"#f1b6da\"],[0.4,\"#fde0ef\"],[0.5,\"#f7f7f7\"],[0.6,\"#e6f5d0\"],[0.7,\"#b8e186\"],[0.8,\"#7fbc41\"],[0.9,\"#4d9221\"],[1,\"#276419\"]]},\"xaxis\":{\"gridcolor\":\"white\",\"linecolor\":\"white\",\"ticks\":\"\",\"title\":{\"standoff\":15},\"zerolinecolor\":\"white\",\"automargin\":true,\"zerolinewidth\":2},\"yaxis\":{\"gridcolor\":\"white\",\"linecolor\":\"white\",\"ticks\":\"\",\"title\":{\"standoff\":15},\"zerolinecolor\":\"white\",\"automargin\":true,\"zerolinewidth\":2},\"scene\":{\"xaxis\":{\"backgroundcolor\":\"#E5ECF6\",\"gridcolor\":\"white\",\"linecolor\":\"white\",\"showbackground\":true,\"ticks\":\"\",\"zerolinecolor\":\"white\",\"gridwidth\":2},\"yaxis\":{\"backgroundcolor\":\"#E5ECF6\",\"gridcolor\":\"white\",\"linecolor\":\"white\",\"showbackground\":true,\"ticks\":\"\",\"zerolinecolor\":\"white\",\"gridwidth\":2},\"zaxis\":{\"backgroundcolor\":\"#E5ECF6\",\"gridcolor\":\"white\",\"linecolor\":\"white\",\"showbackground\":true,\"ticks\":\"\",\"zerolinecolor\":\"white\",\"gridwidth\":2}},\"shapedefaults\":{\"line\":{\"color\":\"#2a3f5f\"}},\"annotationdefaults\":{\"arrowcolor\":\"#2a3f5f\",\"arrowhead\":0,\"arrowwidth\":1},\"geo\":{\"bgcolor\":\"white\",\"landcolor\":\"#E5ECF6\",\"subunitcolor\":\"white\",\"showland\":true,\"showlakes\":true,\"lakecolor\":\"white\"},\"title\":{\"x\":0.05},\"mapbox\":{\"style\":\"light\"}}}},                        {\"responsive\": true}                    ).then(function(){\n",
              "                            \n",
              "var gd = document.getElementById('2a9d065f-c954-4593-bdf0-97cb5c9db062');\n",
              "var x = new MutationObserver(function (mutations, observer) {{\n",
              "        var display = window.getComputedStyle(gd).display;\n",
              "        if (!display || display === 'none') {{\n",
              "            console.log([gd, 'removed!']);\n",
              "            Plotly.purge(gd);\n",
              "            observer.disconnect();\n",
              "        }}\n",
              "}});\n",
              "\n",
              "// Listen for the removal of the full notebook cells\n",
              "var notebookContainer = gd.closest('#notebook-container');\n",
              "if (notebookContainer) {{\n",
              "    x.observe(notebookContainer, {childList: true});\n",
              "}}\n",
              "\n",
              "// Listen for the clearing of the current output cell\n",
              "var outputEl = gd.closest('.output');\n",
              "if (outputEl) {{\n",
              "    x.observe(outputEl, {childList: true});\n",
              "}}\n",
              "\n",
              "                        })                };                            </script>        </div>\n",
              "</body>\n",
              "</html>"
            ]
          },
          "metadata": {}
        }
      ]
    },
    {
      "cell_type": "code",
      "source": [
        "def roulette(population):\n",
        "  f=[fitnessFunc(x) for x in population]\n",
        "  probability=f/sum(f)\n",
        "  accumProb=np.cumsum(probability)\n",
        "  return accumProb"
      ],
      "metadata": {
        "id": "glFJjwoxs1MY"
      },
      "execution_count": null,
      "outputs": []
    },
    {
      "cell_type": "markdown",
      "source": [
        "## Operador de selección"
      ],
      "metadata": {
        "id": "56m6vQLltQBd"
      }
    },
    {
      "cell_type": "code",
      "source": [
        "nr=np.random.uniform()\n",
        "nr"
      ],
      "metadata": {
        "colab": {
          "base_uri": "https://localhost:8080/"
        },
        "id": "Bck8l55jtT6p",
        "outputId": "cb63e2c7-67ec-42d8-96c9-5c2ffcb3bb1d"
      },
      "execution_count": null,
      "outputs": [
        {
          "output_type": "execute_result",
          "data": {
            "text/plain": [
              "0.6754061724686846"
            ]
          },
          "metadata": {},
          "execution_count": 1273
        }
      ]
    },
    {
      "cell_type": "code",
      "source": [
        "population"
      ],
      "metadata": {
        "colab": {
          "base_uri": "https://localhost:8080/"
        },
        "id": "epAFkF3P821j",
        "outputId": "29253f4c-2c46-469f-a0b7-c5a7b39861a4"
      },
      "execution_count": null,
      "outputs": [
        {
          "output_type": "execute_result",
          "data": {
            "text/plain": [
              "[array([0, 0, 1, 0, 0, 1, 0, 0, 0, 0]),\n",
              " array([0, 0, 1, 0, 0, 1, 0, 0, 0, 0]),\n",
              " array([0, 0, 0, 0, 0, 1, 0, 1, 0, 0]),\n",
              " array([0, 0, 0, 0, 0, 0, 1, 1, 1, 0]),\n",
              " array([1, 0, 0, 0, 0, 1, 0, 0, 0, 0]),\n",
              " array([0, 0, 0, 0, 0, 1, 0, 1, 0, 0]),\n",
              " array([1, 0, 0, 0, 0, 0, 1, 0, 0, 0]),\n",
              " array([0, 0, 0, 0, 0, 0, 1, 1, 1, 0]),\n",
              " array([1, 1, 0, 0, 0, 0, 0, 1, 0, 0]),\n",
              " array([0, 0, 0, 0, 0, 0, 0, 1, 1, 1]),\n",
              " array([1, 0, 1, 0, 0, 0, 0, 1, 1, 0]),\n",
              " array([0, 0, 1, 0, 0, 0, 1, 0, 0, 0]),\n",
              " array([1, 0, 0, 0, 0, 0, 0, 0, 1, 1]),\n",
              " array([1, 0, 1, 0, 0, 0, 0, 0, 0, 0]),\n",
              " array([0, 0, 1, 0, 0, 0, 0, 1, 1, 0]),\n",
              " array([1, 0, 1, 0, 0, 0, 0, 0, 1, 0]),\n",
              " array([0, 0, 0, 0, 0, 0, 1, 1, 1, 0]),\n",
              " array([1, 0, 0, 0, 0, 1, 0, 1, 0, 0]),\n",
              " array([1, 0, 0, 0, 0, 0, 1, 1, 0, 0]),\n",
              " array([0, 0, 1, 0, 0, 0, 0, 0, 1, 0]),\n",
              " array([1, 0, 0, 0, 0, 0, 0, 1, 0, 1]),\n",
              " array([1, 1, 0, 0, 0, 0, 0, 1, 0, 0]),\n",
              " array([0, 0, 0, 0, 0, 1, 0, 0, 0, 0]),\n",
              " array([0, 0, 0, 0, 0, 0, 1, 1, 0, 0]),\n",
              " array([0, 0, 0, 0, 0, 0, 0, 1, 1, 0]),\n",
              " array([0, 0, 0, 0, 1, 0, 0, 0, 0, 0]),\n",
              " array([1, 0, 0, 1, 0, 0, 0, 1, 0, 0]),\n",
              " array([0, 0, 1, 0, 0, 0, 0, 1, 1, 0]),\n",
              " array([1, 0, 0, 0, 0, 1, 0, 0, 0, 0]),\n",
              " array([0, 0, 0, 0, 0, 1, 0, 0, 0, 0]),\n",
              " array([1, 0, 0, 0, 0, 1, 0, 0, 1, 0]),\n",
              " array([1, 1, 0, 0, 0, 0, 0, 1, 0, 0]),\n",
              " array([1, 1, 0, 0, 0, 0, 0, 0, 0, 0]),\n",
              " array([1, 0, 0, 0, 0, 0, 0, 1, 1, 0]),\n",
              " array([1, 0, 0, 0, 0, 1, 0, 0, 0, 0]),\n",
              " array([1, 0, 0, 0, 0, 0, 0, 1, 0, 1]),\n",
              " array([0, 0, 0, 0, 1, 0, 0, 0, 0, 0]),\n",
              " array([1, 0, 1, 0, 0, 0, 0, 1, 0, 0]),\n",
              " array([1, 0, 0, 0, 0, 1, 0, 0, 1, 0]),\n",
              " array([1, 0, 0, 0, 0, 1, 0, 1, 0, 0]),\n",
              " array([0, 0, 1, 0, 0, 0, 1, 0, 0, 0]),\n",
              " array([0, 0, 1, 0, 0, 0, 0, 1, 0, 0]),\n",
              " array([0, 0, 0, 0, 0, 0, 0, 1, 0, 1]),\n",
              " array([0, 0, 0, 0, 0, 0, 0, 1, 1, 1]),\n",
              " array([0, 0, 0, 0, 0, 0, 0, 0, 1, 1]),\n",
              " array([0, 0, 0, 0, 0, 0, 0, 0, 0, 1]),\n",
              " array([1, 0, 0, 0, 0, 1, 0, 1, 1, 0]),\n",
              " array([0, 0, 0, 0, 0, 0, 0, 0, 1, 1]),\n",
              " array([0, 0, 0, 0, 0, 0, 0, 0, 0, 1]),\n",
              " array([0, 0, 0, 0, 0, 1, 0, 0, 1, 0])]"
            ]
          },
          "metadata": {},
          "execution_count": 1274
        }
      ]
    },
    {
      "cell_type": "code",
      "source": [
        "def selection(population, accumProb):\n",
        "  nr=np.random.uniform()\n",
        "  for i, p in enumerate(accumProb):\n",
        "    if nr<p:\n",
        "      return (i, population[i])"
      ],
      "metadata": {
        "id": "nCbBFAketzRk"
      },
      "execution_count": null,
      "outputs": []
    },
    {
      "cell_type": "code",
      "source": [
        "selection(population, accumProb)"
      ],
      "metadata": {
        "colab": {
          "base_uri": "https://localhost:8080/"
        },
        "id": "2dvo_kWeuTDH",
        "outputId": "34aef9b0-2ae1-4ec2-930f-3de5b18ead2e"
      },
      "execution_count": null,
      "outputs": [
        {
          "output_type": "execute_result",
          "data": {
            "text/plain": [
              "(4, array([1, 0, 0, 0, 0, 1, 0, 0, 0, 0]))"
            ]
          },
          "metadata": {},
          "execution_count": 1276
        }
      ]
    },
    {
      "cell_type": "markdown",
      "source": [
        "## Operador de Mutación"
      ],
      "metadata": {
        "id": "wf_CTX58rKKY"
      }
    },
    {
      "cell_type": "code",
      "source": [
        "def mutate(ind):\n",
        "  mp=np.random.randint(0,len(ind))\n",
        "  child=np.copy(ind)\n",
        "  child[mp]=not child[mp]\n",
        "  return child"
      ],
      "metadata": {
        "id": "SOgwa3mkrQ25"
      },
      "execution_count": null,
      "outputs": []
    },
    {
      "cell_type": "code",
      "source": [
        "population[1]"
      ],
      "metadata": {
        "id": "Oea9-vWEsCNP",
        "colab": {
          "base_uri": "https://localhost:8080/"
        },
        "outputId": "898a316c-36a4-4417-f378-b6ae5542d036"
      },
      "execution_count": null,
      "outputs": [
        {
          "output_type": "execute_result",
          "data": {
            "text/plain": [
              "array([0, 0, 1, 0, 0, 1, 0, 0, 0, 0])"
            ]
          },
          "metadata": {},
          "execution_count": 1278
        }
      ]
    },
    {
      "cell_type": "code",
      "source": [
        "mutate(population[1])"
      ],
      "metadata": {
        "id": "233KO_-rsIMa",
        "colab": {
          "base_uri": "https://localhost:8080/"
        },
        "outputId": "ab6aafee-9fcd-4bf6-c8a2-14c24e9d457d"
      },
      "execution_count": null,
      "outputs": [
        {
          "output_type": "execute_result",
          "data": {
            "text/plain": [
              "array([0, 0, 1, 0, 0, 1, 0, 0, 1, 0])"
            ]
          },
          "metadata": {},
          "execution_count": 1279
        }
      ]
    },
    {
      "cell_type": "markdown",
      "source": [
        "## Operador de Cruce"
      ],
      "metadata": {
        "id": "8fQnbttBrNNO"
      }
    },
    {
      "cell_type": "code",
      "source": [
        "def crossover(ind1, ind2):\n",
        "  cp=np.random.randint(1,len(ind1))\n",
        "  child1=np.concatenate((ind1[0:cp],ind2[cp:len(ind2)]))\n",
        "  child2=np.concatenate((ind2[0:cp],ind1[cp:len(ind1)]))\n",
        "  return child1,child2"
      ],
      "metadata": {
        "id": "_qPST3AMtIRG"
      },
      "execution_count": null,
      "outputs": []
    },
    {
      "cell_type": "code",
      "source": [
        "ind1=population[1]\n",
        "ind2=population[3]\n",
        "print(ind1)\n",
        "print(ind2)"
      ],
      "metadata": {
        "id": "NXl9LzUyt4C7",
        "colab": {
          "base_uri": "https://localhost:8080/"
        },
        "outputId": "6d8cc565-9c41-416b-be81-8a145c3d9335"
      },
      "execution_count": null,
      "outputs": [
        {
          "output_type": "stream",
          "name": "stdout",
          "text": [
            "[0 0 1 0 0 1 0 0 0 0]\n",
            "[0 0 0 0 0 0 1 1 1 0]\n"
          ]
        }
      ]
    },
    {
      "cell_type": "code",
      "source": [
        "crossover(ind1, ind2)"
      ],
      "metadata": {
        "id": "vIcNhpvCuDLh",
        "colab": {
          "base_uri": "https://localhost:8080/"
        },
        "outputId": "0e0f3aac-90b3-463c-fea2-6b0471e8bb06"
      },
      "execution_count": null,
      "outputs": [
        {
          "output_type": "execute_result",
          "data": {
            "text/plain": [
              "(array([0, 0, 1, 0, 0, 0, 1, 1, 1, 0]), array([0, 0, 0, 0, 0, 1, 0, 0, 0, 0]))"
            ]
          },
          "metadata": {},
          "execution_count": 1282
        }
      ]
    },
    {
      "cell_type": "markdown",
      "source": [
        "## Método de algoritmo genético"
      ],
      "metadata": {
        "id": "Fu0ea2QAvXy7"
      }
    },
    {
      "cell_type": "code",
      "source": [
        "  ff=[fitnessFunc(i) for i in population]\n",
        "  ff"
      ],
      "metadata": {
        "id": "QgmMIBQXxbNV",
        "colab": {
          "base_uri": "https://localhost:8080/"
        },
        "outputId": "7192c147-1ec6-471f-ec6b-76ee4edcaf0c"
      },
      "execution_count": null,
      "outputs": [
        {
          "output_type": "execute_result",
          "data": {
            "text/plain": [
              "[129.76293142594704,\n",
              " 129.76293142594704,\n",
              " 136.81003146419238,\n",
              " 161.0748181735754,\n",
              " 159.29352886021485,\n",
              " 136.81003146419238,\n",
              " 90.36891962038474,\n",
              " 161.0748181735754,\n",
              " 194.5742064102569,\n",
              " 142.41469169664822,\n",
              " 245.90660996684218,\n",
              " 60.83832218611694,\n",
              " 164.8981890926707,\n",
              " 106.95694179767841,\n",
              " 177.6628403508691,\n",
              " 200.14633774689156,\n",
              " 161.0748181735754,\n",
              " 205.05380108016547,\n",
              " 136.12919184033538,\n",
              " 131.90256813091844,\n",
              " 117.46906536340819,\n",
              " 194.5742064102569,\n",
              " 91.04975924424176,\n",
              " 67.88542222436226,\n",
              " 138.94966816916377,\n",
              " 29.52641433149136,\n",
              " 121.53174017960833,\n",
              " 177.6628403508691,\n",
              " 159.29352886021485,\n",
              " 91.04975924424176,\n",
              " 252.482924809428,\n",
              " 194.5742064102569,\n",
              " 148.81393419030627,\n",
              " 207.1934377851369,\n",
              " 159.29352886021485,\n",
              " 117.46906536340819,\n",
              " 29.52641433149136,\n",
              " 152.71721401762903,\n",
              " 252.482924809428,\n",
              " 205.05380108016547,\n",
              " 60.83832218611694,\n",
              " 84.47344440165594,\n",
              " 49.225295747435084,\n",
              " 142.41469169664822,\n",
              " 96.6544194766976,\n",
              " 3.4650235274844534,\n",
              " 298.2431970293786,\n",
              " 96.6544194766976,\n",
              " 3.4650235274844534,\n",
              " 184.2391551934549]"
            ]
          },
          "metadata": {},
          "execution_count": 1283
        }
      ]
    },
    {
      "cell_type": "code",
      "source": [
        "population[np.argmax(ff)]"
      ],
      "metadata": {
        "id": "8vNeIHt-xhF3",
        "colab": {
          "base_uri": "https://localhost:8080/"
        },
        "outputId": "5c30d0e6-a71e-4050-ac33-3384bbd0fb68"
      },
      "execution_count": null,
      "outputs": [
        {
          "output_type": "execute_result",
          "data": {
            "text/plain": [
              "array([1, 0, 0, 0, 0, 1, 0, 1, 1, 0])"
            ]
          },
          "metadata": {},
          "execution_count": 1284
        }
      ]
    },
    {
      "cell_type": "code",
      "source": [
        "sorted(population,key=fitnessFunc, reverse=True)"
      ],
      "metadata": {
        "id": "qusZ0XSyxxHU",
        "colab": {
          "base_uri": "https://localhost:8080/"
        },
        "outputId": "227e2fb7-9c1f-4a3e-d7be-bc6d9180b1b1"
      },
      "execution_count": null,
      "outputs": [
        {
          "output_type": "execute_result",
          "data": {
            "text/plain": [
              "[array([1, 0, 0, 0, 0, 1, 0, 1, 1, 0]),\n",
              " array([1, 0, 0, 0, 0, 1, 0, 0, 1, 0]),\n",
              " array([1, 0, 0, 0, 0, 1, 0, 0, 1, 0]),\n",
              " array([1, 0, 1, 0, 0, 0, 0, 1, 1, 0]),\n",
              " array([1, 0, 0, 0, 0, 0, 0, 1, 1, 0]),\n",
              " array([1, 0, 0, 0, 0, 1, 0, 1, 0, 0]),\n",
              " array([1, 0, 0, 0, 0, 1, 0, 1, 0, 0]),\n",
              " array([1, 0, 1, 0, 0, 0, 0, 0, 1, 0]),\n",
              " array([1, 1, 0, 0, 0, 0, 0, 1, 0, 0]),\n",
              " array([1, 1, 0, 0, 0, 0, 0, 1, 0, 0]),\n",
              " array([1, 1, 0, 0, 0, 0, 0, 1, 0, 0]),\n",
              " array([0, 0, 0, 0, 0, 1, 0, 0, 1, 0]),\n",
              " array([0, 0, 1, 0, 0, 0, 0, 1, 1, 0]),\n",
              " array([0, 0, 1, 0, 0, 0, 0, 1, 1, 0]),\n",
              " array([1, 0, 0, 0, 0, 0, 0, 0, 1, 1]),\n",
              " array([0, 0, 0, 0, 0, 0, 1, 1, 1, 0]),\n",
              " array([0, 0, 0, 0, 0, 0, 1, 1, 1, 0]),\n",
              " array([0, 0, 0, 0, 0, 0, 1, 1, 1, 0]),\n",
              " array([1, 0, 0, 0, 0, 1, 0, 0, 0, 0]),\n",
              " array([1, 0, 0, 0, 0, 1, 0, 0, 0, 0]),\n",
              " array([1, 0, 0, 0, 0, 1, 0, 0, 0, 0]),\n",
              " array([1, 0, 1, 0, 0, 0, 0, 1, 0, 0]),\n",
              " array([1, 1, 0, 0, 0, 0, 0, 0, 0, 0]),\n",
              " array([0, 0, 0, 0, 0, 0, 0, 1, 1, 1]),\n",
              " array([0, 0, 0, 0, 0, 0, 0, 1, 1, 1]),\n",
              " array([0, 0, 0, 0, 0, 0, 0, 1, 1, 0]),\n",
              " array([0, 0, 0, 0, 0, 1, 0, 1, 0, 0]),\n",
              " array([0, 0, 0, 0, 0, 1, 0, 1, 0, 0]),\n",
              " array([1, 0, 0, 0, 0, 0, 1, 1, 0, 0]),\n",
              " array([0, 0, 1, 0, 0, 0, 0, 0, 1, 0]),\n",
              " array([0, 0, 1, 0, 0, 1, 0, 0, 0, 0]),\n",
              " array([0, 0, 1, 0, 0, 1, 0, 0, 0, 0]),\n",
              " array([1, 0, 0, 1, 0, 0, 0, 1, 0, 0]),\n",
              " array([1, 0, 0, 0, 0, 0, 0, 1, 0, 1]),\n",
              " array([1, 0, 0, 0, 0, 0, 0, 1, 0, 1]),\n",
              " array([1, 0, 1, 0, 0, 0, 0, 0, 0, 0]),\n",
              " array([0, 0, 0, 0, 0, 0, 0, 0, 1, 1]),\n",
              " array([0, 0, 0, 0, 0, 0, 0, 0, 1, 1]),\n",
              " array([0, 0, 0, 0, 0, 1, 0, 0, 0, 0]),\n",
              " array([0, 0, 0, 0, 0, 1, 0, 0, 0, 0]),\n",
              " array([1, 0, 0, 0, 0, 0, 1, 0, 0, 0]),\n",
              " array([0, 0, 1, 0, 0, 0, 0, 1, 0, 0]),\n",
              " array([0, 0, 0, 0, 0, 0, 1, 1, 0, 0]),\n",
              " array([0, 0, 1, 0, 0, 0, 1, 0, 0, 0]),\n",
              " array([0, 0, 1, 0, 0, 0, 1, 0, 0, 0]),\n",
              " array([0, 0, 0, 0, 0, 0, 0, 1, 0, 1]),\n",
              " array([0, 0, 0, 0, 1, 0, 0, 0, 0, 0]),\n",
              " array([0, 0, 0, 0, 1, 0, 0, 0, 0, 0]),\n",
              " array([0, 0, 0, 0, 0, 0, 0, 0, 0, 1]),\n",
              " array([0, 0, 0, 0, 0, 0, 0, 0, 0, 1])]"
            ]
          },
          "metadata": {},
          "execution_count": 1285
        }
      ]
    },
    {
      "cell_type": "code",
      "source": [
        "def geneticAlgorithm(sizeIndividual, sizePopulation,generations, mutation_probability,crossover_probatility):\n",
        "  population=generateFirstPopulation(sizeIndividual, sizePopulation)\n",
        "  accumulatedP=roulette(population)\n",
        "  ff=[fitnessFunc(i) for i in population]\n",
        "  bestIndividual=[population[np.argmax(ff)]] # Lista de los mejores\n",
        "  for i in range(generations):\n",
        "    newPopulation=[]\n",
        "    cont=0\n",
        "    while True:\n",
        "      # Cruce\n",
        "      ind1=selection(population, accumulatedP)[1]\n",
        "      ind2=selection(population, accumulatedP)[1]\n",
        "      crossProb=np.random.uniform()\n",
        "      if crossProb<=crossover_probatility:\n",
        "        child1,child2=crossover(ind1, ind2)\n",
        "        if valid(child1):\n",
        "          newPopulation.append(child1)\n",
        "        if valid(child2):\n",
        "          newPopulation.append(child2)\n",
        "      else:\n",
        "        newPopulation.append(ind1)\n",
        "        newPopulation.append(ind2)\n",
        "      # Mutación\n",
        "      ind1=selection(population, accumulatedP)[1]\n",
        "      mProb=np.random.uniform()\n",
        "      if mProb <=mutation_probability:\n",
        "        child=mutate(ind1)\n",
        "        if valid(child):\n",
        "          newPopulation.append(child)\n",
        "      else:\n",
        "        newPopulation.append(ind1)\n",
        "      if len(newPopulation)>=sizePopulation:\n",
        "        newPopulation=newPopulation[0:sizePopulation]\n",
        "        break\n",
        "    accumulatedP=roulette(newPopulation)\n",
        "    ff=[fitnessFunc(i) for i in newPopulation]\n",
        "    bestIndividual.append(newPopulation[np.argmax(ff)])\n",
        "    population=newPopulation\n",
        "  sortedBest=sorted(bestIndividual,key=fitnessFunc, reverse=True)\n",
        "  return bestIndividual, sortedBest[0]"
      ],
      "metadata": {
        "id": "Uy-Jy2GnvXEE"
      },
      "execution_count": null,
      "outputs": []
    },
    {
      "cell_type": "code",
      "source": [
        "np.random.seed()\n",
        "bestList, bestInd=geneticAlgorithm(N,NP, generations,mutation_probability, crossover_probability)\n",
        "bestInd"
      ],
      "metadata": {
        "id": "upEDwyXr3slB",
        "colab": {
          "base_uri": "https://localhost:8080/"
        },
        "outputId": "a9b4c527-b36e-45c6-ca0a-e5cc222f3a40"
      },
      "execution_count": null,
      "outputs": [
        {
          "output_type": "execute_result",
          "data": {
            "text/plain": [
              "array([1, 0, 0, 0, 0, 1, 0, 1, 1, 0])"
            ]
          },
          "metadata": {},
          "execution_count": 1287
        }
      ]
    },
    {
      "cell_type": "code",
      "source": [
        "sum(bestInd*prices)"
      ],
      "metadata": {
        "id": "d91h7nUI42Ez",
        "colab": {
          "base_uri": "https://localhost:8080/"
        },
        "outputId": "ad22ffc6-b1ad-4e06-e08c-f315a497db96"
      },
      "execution_count": null,
      "outputs": [
        {
          "output_type": "execute_result",
          "data": {
            "text/plain": [
              "298.2431970293786"
            ]
          },
          "metadata": {},
          "execution_count": 1288
        }
      ]
    },
    {
      "cell_type": "code",
      "source": [
        "import plotly.express as px"
      ],
      "metadata": {
        "id": "FbbxsZO663j1"
      },
      "execution_count": null,
      "outputs": []
    },
    {
      "cell_type": "code",
      "source": [
        "print(sum(bestInd*prices))\n",
        "iteration=np.arange(0,len(bestList))\n",
        "fitnessValue=[fitnessFunc(x) for x in bestList]\n",
        "df=pd.DataFrame(list(zip(iteration,fitnessValue)),columns=['Iteración','Fitness'])\n",
        "fig=px.line(df,x='Iteración',y='Fitness')\n",
        "fig.show()"
      ],
      "metadata": {
        "id": "O5_iw2Vc5DGY",
        "colab": {
          "base_uri": "https://localhost:8080/",
          "height": 560
        },
        "outputId": "eb4f8b38-1073-439c-f4f2-e79e45191e26"
      },
      "execution_count": null,
      "outputs": [
        {
          "output_type": "stream",
          "name": "stdout",
          "text": [
            "298.2431970293786\n"
          ]
        },
        {
          "output_type": "display_data",
          "data": {
            "text/html": [
              "<html>\n",
              "<head><meta charset=\"utf-8\" /></head>\n",
              "<body>\n",
              "    <div>            <script src=\"https://cdnjs.cloudflare.com/ajax/libs/mathjax/2.7.5/MathJax.js?config=TeX-AMS-MML_SVG\"></script><script type=\"text/javascript\">if (window.MathJax && window.MathJax.Hub && window.MathJax.Hub.Config) {window.MathJax.Hub.Config({SVG: {font: \"STIX-Web\"}});}</script>                <script type=\"text/javascript\">window.PlotlyConfig = {MathJaxConfig: 'local'};</script>\n",
              "        <script src=\"https://cdn.plot.ly/plotly-2.18.2.min.js\"></script>                <div id=\"122e54a0-dcb6-4e4a-8c6f-72eb0f90c90d\" class=\"plotly-graph-div\" style=\"height:525px; width:100%;\"></div>            <script type=\"text/javascript\">                                    window.PLOTLYENV=window.PLOTLYENV || {};                                    if (document.getElementById(\"122e54a0-dcb6-4e4a-8c6f-72eb0f90c90d\")) {                    Plotly.newPlot(                        \"122e54a0-dcb6-4e4a-8c6f-72eb0f90c90d\",                        [{\"hovertemplate\":\"Iteraci\\u00f3n=%{x}<br>Fitness=%{y}<extra></extra>\",\"legendgroup\":\"\",\"line\":{\"color\":\"#636efa\",\"dash\":\"solid\"},\"marker\":{\"symbol\":\"circle\"},\"mode\":\"lines\",\"name\":\"\",\"orientation\":\"v\",\"showlegend\":false,\"x\":[0,1,2,3,4,5,6,7,8,9,10,11,12,13,14,15,16,17,18,19,20,21,22,23,24,25,26,27,28,29,30,31,32,33,34,35,36,37,38,39,40,41,42,43,44,45,46,47,48,49,50,51,52,53,54,55,56,57,58,59,60,61,62,63,64,65,66,67,68,69,70,71,72,73,74,75,76,77,78,79,80,81,82,83,84,85,86,87,88,89,90,91,92,93,94,95,96,97,98,99,100,101,102,103,104,105,106,107,108,109,110,111,112,113,114,115,116,117,118,119,120,121,122,123,124,125,126,127,128,129,130,131,132,133,134,135,136,137,138,139,140,141,142,143,144,145,146,147,148,149,150,151,152,153,154,155,156,157,158,159,160,161,162,163,164,165,166,167,168,169,170,171,172,173,174,175,176,177,178,179,180,181,182,183,184,185,186,187,188,189,190,191,192,193,194,195,196,197,198,199,200],\"xaxis\":\"x\",\"y\":[252.482924809428,298.2431970293786,252.482924809428,298.2431970293786,298.2431970293786,298.2431970293786,298.2431970293786,298.2431970293786,298.2431970293786,298.2431970293786,298.2431970293786,298.2431970293786,298.2431970293786,298.2431970293786,298.2431970293786,298.2431970293786,298.2431970293786,298.2431970293786,298.2431970293786,298.2431970293786,298.2431970293786,298.2431970293786,298.2431970293786,298.2431970293786,298.2431970293786,298.2431970293786,298.2431970293786,298.2431970293786,298.2431970293786,298.2431970293786,298.2431970293786,298.2431970293786,298.2431970293786,298.2431970293786,298.2431970293786,298.2431970293786,298.2431970293786,298.2431970293786,298.2431970293786,298.2431970293786,298.2431970293786,298.2431970293786,298.2431970293786,298.2431970293786,298.2431970293786,298.2431970293786,298.2431970293786,298.2431970293786,298.2431970293786,298.2431970293786,298.2431970293786,298.2431970293786,298.2431970293786,298.2431970293786,298.2431970293786,298.2431970293786,298.2431970293786,298.2431970293786,298.2431970293786,298.2431970293786,298.2431970293786,298.2431970293786,298.2431970293786,298.2431970293786,298.2431970293786,298.2431970293786,298.2431970293786,298.2431970293786,298.2431970293786,298.2431970293786,298.2431970293786,298.2431970293786,298.2431970293786,298.2431970293786,298.2431970293786,298.2431970293786,298.2431970293786,298.2431970293786,298.2431970293786,298.2431970293786,298.2431970293786,298.2431970293786,298.2431970293786,298.2431970293786,298.2431970293786,298.2431970293786,298.2431970293786,298.2431970293786,298.2431970293786,298.2431970293786,298.2431970293786,298.2431970293786,298.2431970293786,298.2431970293786,298.2431970293786,298.2431970293786,298.2431970293786,298.2431970293786,298.2431970293786,298.2431970293786,298.2431970293786,298.2431970293786,298.2431970293786,298.2431970293786,298.2431970293786,298.2431970293786,298.2431970293786,298.2431970293786,298.2431970293786,298.2431970293786,298.2431970293786,298.2431970293786,298.2431970293786,298.2431970293786,298.2431970293786,298.2431970293786,298.2431970293786,298.2431970293786,298.2431970293786,298.2431970293786,298.2431970293786,298.2431970293786,298.2431970293786,298.2431970293786,298.2431970293786,298.2431970293786,298.2431970293786,298.2431970293786,298.2431970293786,298.2431970293786,298.2431970293786,298.2431970293786,298.2431970293786,298.2431970293786,298.2431970293786,298.2431970293786,298.2431970293786,298.2431970293786,298.2431970293786,298.2431970293786,298.2431970293786,298.2431970293786,298.2431970293786,298.2431970293786,298.2431970293786,298.2431970293786,298.2431970293786,298.2431970293786,298.2431970293786,298.2431970293786,298.2431970293786,298.2431970293786,298.2431970293786,298.2431970293786,298.2431970293786,298.2431970293786,298.2431970293786,298.2431970293786,298.2431970293786,298.2431970293786,298.2431970293786,298.2431970293786,298.2431970293786,298.2431970293786,298.2431970293786,298.2431970293786,298.2431970293786,298.2431970293786,298.2431970293786,298.2431970293786,298.2431970293786,298.2431970293786,298.2431970293786,298.2431970293786,298.2431970293786,298.2431970293786,298.2431970293786,298.2431970293786,298.2431970293786,298.2431970293786,298.2431970293786,298.2431970293786,298.2431970293786,298.2431970293786,298.2431970293786,298.2431970293786,298.2431970293786,298.2431970293786,298.2431970293786,298.2431970293786,298.2431970293786,298.2431970293786,298.2431970293786,298.2431970293786,298.2431970293786,298.2431970293786,298.2431970293786,298.2431970293786,298.2431970293786,298.2431970293786,298.2431970293786],\"yaxis\":\"y\",\"type\":\"scatter\"}],                        {\"template\":{\"data\":{\"histogram2dcontour\":[{\"type\":\"histogram2dcontour\",\"colorbar\":{\"outlinewidth\":0,\"ticks\":\"\"},\"colorscale\":[[0.0,\"#0d0887\"],[0.1111111111111111,\"#46039f\"],[0.2222222222222222,\"#7201a8\"],[0.3333333333333333,\"#9c179e\"],[0.4444444444444444,\"#bd3786\"],[0.5555555555555556,\"#d8576b\"],[0.6666666666666666,\"#ed7953\"],[0.7777777777777778,\"#fb9f3a\"],[0.8888888888888888,\"#fdca26\"],[1.0,\"#f0f921\"]]}],\"choropleth\":[{\"type\":\"choropleth\",\"colorbar\":{\"outlinewidth\":0,\"ticks\":\"\"}}],\"histogram2d\":[{\"type\":\"histogram2d\",\"colorbar\":{\"outlinewidth\":0,\"ticks\":\"\"},\"colorscale\":[[0.0,\"#0d0887\"],[0.1111111111111111,\"#46039f\"],[0.2222222222222222,\"#7201a8\"],[0.3333333333333333,\"#9c179e\"],[0.4444444444444444,\"#bd3786\"],[0.5555555555555556,\"#d8576b\"],[0.6666666666666666,\"#ed7953\"],[0.7777777777777778,\"#fb9f3a\"],[0.8888888888888888,\"#fdca26\"],[1.0,\"#f0f921\"]]}],\"heatmap\":[{\"type\":\"heatmap\",\"colorbar\":{\"outlinewidth\":0,\"ticks\":\"\"},\"colorscale\":[[0.0,\"#0d0887\"],[0.1111111111111111,\"#46039f\"],[0.2222222222222222,\"#7201a8\"],[0.3333333333333333,\"#9c179e\"],[0.4444444444444444,\"#bd3786\"],[0.5555555555555556,\"#d8576b\"],[0.6666666666666666,\"#ed7953\"],[0.7777777777777778,\"#fb9f3a\"],[0.8888888888888888,\"#fdca26\"],[1.0,\"#f0f921\"]]}],\"heatmapgl\":[{\"type\":\"heatmapgl\",\"colorbar\":{\"outlinewidth\":0,\"ticks\":\"\"},\"colorscale\":[[0.0,\"#0d0887\"],[0.1111111111111111,\"#46039f\"],[0.2222222222222222,\"#7201a8\"],[0.3333333333333333,\"#9c179e\"],[0.4444444444444444,\"#bd3786\"],[0.5555555555555556,\"#d8576b\"],[0.6666666666666666,\"#ed7953\"],[0.7777777777777778,\"#fb9f3a\"],[0.8888888888888888,\"#fdca26\"],[1.0,\"#f0f921\"]]}],\"contourcarpet\":[{\"type\":\"contourcarpet\",\"colorbar\":{\"outlinewidth\":0,\"ticks\":\"\"}}],\"contour\":[{\"type\":\"contour\",\"colorbar\":{\"outlinewidth\":0,\"ticks\":\"\"},\"colorscale\":[[0.0,\"#0d0887\"],[0.1111111111111111,\"#46039f\"],[0.2222222222222222,\"#7201a8\"],[0.3333333333333333,\"#9c179e\"],[0.4444444444444444,\"#bd3786\"],[0.5555555555555556,\"#d8576b\"],[0.6666666666666666,\"#ed7953\"],[0.7777777777777778,\"#fb9f3a\"],[0.8888888888888888,\"#fdca26\"],[1.0,\"#f0f921\"]]}],\"surface\":[{\"type\":\"surface\",\"colorbar\":{\"outlinewidth\":0,\"ticks\":\"\"},\"colorscale\":[[0.0,\"#0d0887\"],[0.1111111111111111,\"#46039f\"],[0.2222222222222222,\"#7201a8\"],[0.3333333333333333,\"#9c179e\"],[0.4444444444444444,\"#bd3786\"],[0.5555555555555556,\"#d8576b\"],[0.6666666666666666,\"#ed7953\"],[0.7777777777777778,\"#fb9f3a\"],[0.8888888888888888,\"#fdca26\"],[1.0,\"#f0f921\"]]}],\"mesh3d\":[{\"type\":\"mesh3d\",\"colorbar\":{\"outlinewidth\":0,\"ticks\":\"\"}}],\"scatter\":[{\"fillpattern\":{\"fillmode\":\"overlay\",\"size\":10,\"solidity\":0.2},\"type\":\"scatter\"}],\"parcoords\":[{\"type\":\"parcoords\",\"line\":{\"colorbar\":{\"outlinewidth\":0,\"ticks\":\"\"}}}],\"scatterpolargl\":[{\"type\":\"scatterpolargl\",\"marker\":{\"colorbar\":{\"outlinewidth\":0,\"ticks\":\"\"}}}],\"bar\":[{\"error_x\":{\"color\":\"#2a3f5f\"},\"error_y\":{\"color\":\"#2a3f5f\"},\"marker\":{\"line\":{\"color\":\"#E5ECF6\",\"width\":0.5},\"pattern\":{\"fillmode\":\"overlay\",\"size\":10,\"solidity\":0.2}},\"type\":\"bar\"}],\"scattergeo\":[{\"type\":\"scattergeo\",\"marker\":{\"colorbar\":{\"outlinewidth\":0,\"ticks\":\"\"}}}],\"scatterpolar\":[{\"type\":\"scatterpolar\",\"marker\":{\"colorbar\":{\"outlinewidth\":0,\"ticks\":\"\"}}}],\"histogram\":[{\"marker\":{\"pattern\":{\"fillmode\":\"overlay\",\"size\":10,\"solidity\":0.2}},\"type\":\"histogram\"}],\"scattergl\":[{\"type\":\"scattergl\",\"marker\":{\"colorbar\":{\"outlinewidth\":0,\"ticks\":\"\"}}}],\"scatter3d\":[{\"type\":\"scatter3d\",\"line\":{\"colorbar\":{\"outlinewidth\":0,\"ticks\":\"\"}},\"marker\":{\"colorbar\":{\"outlinewidth\":0,\"ticks\":\"\"}}}],\"scattermapbox\":[{\"type\":\"scattermapbox\",\"marker\":{\"colorbar\":{\"outlinewidth\":0,\"ticks\":\"\"}}}],\"scatterternary\":[{\"type\":\"scatterternary\",\"marker\":{\"colorbar\":{\"outlinewidth\":0,\"ticks\":\"\"}}}],\"scattercarpet\":[{\"type\":\"scattercarpet\",\"marker\":{\"colorbar\":{\"outlinewidth\":0,\"ticks\":\"\"}}}],\"carpet\":[{\"aaxis\":{\"endlinecolor\":\"#2a3f5f\",\"gridcolor\":\"white\",\"linecolor\":\"white\",\"minorgridcolor\":\"white\",\"startlinecolor\":\"#2a3f5f\"},\"baxis\":{\"endlinecolor\":\"#2a3f5f\",\"gridcolor\":\"white\",\"linecolor\":\"white\",\"minorgridcolor\":\"white\",\"startlinecolor\":\"#2a3f5f\"},\"type\":\"carpet\"}],\"table\":[{\"cells\":{\"fill\":{\"color\":\"#EBF0F8\"},\"line\":{\"color\":\"white\"}},\"header\":{\"fill\":{\"color\":\"#C8D4E3\"},\"line\":{\"color\":\"white\"}},\"type\":\"table\"}],\"barpolar\":[{\"marker\":{\"line\":{\"color\":\"#E5ECF6\",\"width\":0.5},\"pattern\":{\"fillmode\":\"overlay\",\"size\":10,\"solidity\":0.2}},\"type\":\"barpolar\"}],\"pie\":[{\"automargin\":true,\"type\":\"pie\"}]},\"layout\":{\"autotypenumbers\":\"strict\",\"colorway\":[\"#636efa\",\"#EF553B\",\"#00cc96\",\"#ab63fa\",\"#FFA15A\",\"#19d3f3\",\"#FF6692\",\"#B6E880\",\"#FF97FF\",\"#FECB52\"],\"font\":{\"color\":\"#2a3f5f\"},\"hovermode\":\"closest\",\"hoverlabel\":{\"align\":\"left\"},\"paper_bgcolor\":\"white\",\"plot_bgcolor\":\"#E5ECF6\",\"polar\":{\"bgcolor\":\"#E5ECF6\",\"angularaxis\":{\"gridcolor\":\"white\",\"linecolor\":\"white\",\"ticks\":\"\"},\"radialaxis\":{\"gridcolor\":\"white\",\"linecolor\":\"white\",\"ticks\":\"\"}},\"ternary\":{\"bgcolor\":\"#E5ECF6\",\"aaxis\":{\"gridcolor\":\"white\",\"linecolor\":\"white\",\"ticks\":\"\"},\"baxis\":{\"gridcolor\":\"white\",\"linecolor\":\"white\",\"ticks\":\"\"},\"caxis\":{\"gridcolor\":\"white\",\"linecolor\":\"white\",\"ticks\":\"\"}},\"coloraxis\":{\"colorbar\":{\"outlinewidth\":0,\"ticks\":\"\"}},\"colorscale\":{\"sequential\":[[0.0,\"#0d0887\"],[0.1111111111111111,\"#46039f\"],[0.2222222222222222,\"#7201a8\"],[0.3333333333333333,\"#9c179e\"],[0.4444444444444444,\"#bd3786\"],[0.5555555555555556,\"#d8576b\"],[0.6666666666666666,\"#ed7953\"],[0.7777777777777778,\"#fb9f3a\"],[0.8888888888888888,\"#fdca26\"],[1.0,\"#f0f921\"]],\"sequentialminus\":[[0.0,\"#0d0887\"],[0.1111111111111111,\"#46039f\"],[0.2222222222222222,\"#7201a8\"],[0.3333333333333333,\"#9c179e\"],[0.4444444444444444,\"#bd3786\"],[0.5555555555555556,\"#d8576b\"],[0.6666666666666666,\"#ed7953\"],[0.7777777777777778,\"#fb9f3a\"],[0.8888888888888888,\"#fdca26\"],[1.0,\"#f0f921\"]],\"diverging\":[[0,\"#8e0152\"],[0.1,\"#c51b7d\"],[0.2,\"#de77ae\"],[0.3,\"#f1b6da\"],[0.4,\"#fde0ef\"],[0.5,\"#f7f7f7\"],[0.6,\"#e6f5d0\"],[0.7,\"#b8e186\"],[0.8,\"#7fbc41\"],[0.9,\"#4d9221\"],[1,\"#276419\"]]},\"xaxis\":{\"gridcolor\":\"white\",\"linecolor\":\"white\",\"ticks\":\"\",\"title\":{\"standoff\":15},\"zerolinecolor\":\"white\",\"automargin\":true,\"zerolinewidth\":2},\"yaxis\":{\"gridcolor\":\"white\",\"linecolor\":\"white\",\"ticks\":\"\",\"title\":{\"standoff\":15},\"zerolinecolor\":\"white\",\"automargin\":true,\"zerolinewidth\":2},\"scene\":{\"xaxis\":{\"backgroundcolor\":\"#E5ECF6\",\"gridcolor\":\"white\",\"linecolor\":\"white\",\"showbackground\":true,\"ticks\":\"\",\"zerolinecolor\":\"white\",\"gridwidth\":2},\"yaxis\":{\"backgroundcolor\":\"#E5ECF6\",\"gridcolor\":\"white\",\"linecolor\":\"white\",\"showbackground\":true,\"ticks\":\"\",\"zerolinecolor\":\"white\",\"gridwidth\":2},\"zaxis\":{\"backgroundcolor\":\"#E5ECF6\",\"gridcolor\":\"white\",\"linecolor\":\"white\",\"showbackground\":true,\"ticks\":\"\",\"zerolinecolor\":\"white\",\"gridwidth\":2}},\"shapedefaults\":{\"line\":{\"color\":\"#2a3f5f\"}},\"annotationdefaults\":{\"arrowcolor\":\"#2a3f5f\",\"arrowhead\":0,\"arrowwidth\":1},\"geo\":{\"bgcolor\":\"white\",\"landcolor\":\"#E5ECF6\",\"subunitcolor\":\"white\",\"showland\":true,\"showlakes\":true,\"lakecolor\":\"white\"},\"title\":{\"x\":0.05},\"mapbox\":{\"style\":\"light\"}}},\"xaxis\":{\"anchor\":\"y\",\"domain\":[0.0,1.0],\"title\":{\"text\":\"Iteraci\\u00f3n\"}},\"yaxis\":{\"anchor\":\"x\",\"domain\":[0.0,1.0],\"title\":{\"text\":\"Fitness\"}},\"legend\":{\"tracegroupgap\":0},\"margin\":{\"t\":60}},                        {\"responsive\": true}                    ).then(function(){\n",
              "                            \n",
              "var gd = document.getElementById('122e54a0-dcb6-4e4a-8c6f-72eb0f90c90d');\n",
              "var x = new MutationObserver(function (mutations, observer) {{\n",
              "        var display = window.getComputedStyle(gd).display;\n",
              "        if (!display || display === 'none') {{\n",
              "            console.log([gd, 'removed!']);\n",
              "            Plotly.purge(gd);\n",
              "            observer.disconnect();\n",
              "        }}\n",
              "}});\n",
              "\n",
              "// Listen for the removal of the full notebook cells\n",
              "var notebookContainer = gd.closest('#notebook-container');\n",
              "if (notebookContainer) {{\n",
              "    x.observe(notebookContainer, {childList: true});\n",
              "}}\n",
              "\n",
              "// Listen for the clearing of the current output cell\n",
              "var outputEl = gd.closest('.output');\n",
              "if (outputEl) {{\n",
              "    x.observe(outputEl, {childList: true});\n",
              "}}\n",
              "\n",
              "                        })                };                            </script>        </div>\n",
              "</body>\n",
              "</html>"
            ]
          },
          "metadata": {}
        }
      ]
    }
  ]
}